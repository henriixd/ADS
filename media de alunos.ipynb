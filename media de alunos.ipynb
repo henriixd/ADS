{
  "nbformat": 4,
  "nbformat_minor": 0,
  "metadata": {
    "colab": {
      "provenance": [],
      "authorship_tag": "ABX9TyO42iV9IuFkR0m1/qxNNdg0",
      "include_colab_link": true
    },
    "kernelspec": {
      "name": "python3",
      "display_name": "Python 3"
    },
    "language_info": {
      "name": "python"
    }
  },
  "cells": [
    {
      "cell_type": "markdown",
      "metadata": {
        "id": "view-in-github",
        "colab_type": "text"
      },
      "source": [
        "<a href=\"https://colab.research.google.com/github/henriixd/ADS/blob/main/media%20de%20alunos.ipynb\" target=\"_parent\"><img src=\"https://colab.research.google.com/assets/colab-badge.svg\" alt=\"Open In Colab\"/></a>"
      ]
    },
    {
      "cell_type": "code",
      "execution_count": 9,
      "metadata": {
        "colab": {
          "base_uri": "https://localhost:8080/"
        },
        "id": "3iocxxBS7jBu",
        "outputId": "2b827b4b-66d5-4433-cdc7-0a99a696394b"
      },
      "outputs": [
        {
          "output_type": "stream",
          "name": "stdout",
          "text": [
            "=== Sistema de Gestão de Notas ===\n",
            "Digite a 1ª nota do aluno (0 a 10): 9\n",
            "Digite a 2ª nota do aluno (0 a 10): 5\n",
            "Digite a 3ª nota do aluno (0 a 10): 6\n",
            "Digite a 4ª nota do aluno (0 a 10): 8\n",
            "Digite a 5ª nota do aluno (0 a 10): 5\n",
            "\n",
            "===== RELATÓRIO FINAL =====\n",
            "Notas: [9.0, 5.0, 6.0, 8.0, 5.0]\n",
            "Média: 6.60\n",
            "Situação: Reprovado\n"
          ]
        }
      ],
      "source": [
        "def cadastrar_notas(): #funcao para cadastrar as notas\n",
        "    notas = []\n",
        "    for i in range(1, 6):\n",
        "        while True:\n",
        "            try:\n",
        "                nota = float(input(f\"Digite a {i}ª nota do aluno (0 a 10): \"))\n",
        "                if 0 <= nota <= 10:\n",
        "                    notas.append(nota)\n",
        "                    break\n",
        "                else:\n",
        "                    print(\" Digite uma nota entre 0 e 10.\")\n",
        "            except ValueError:\n",
        "                print(\"Entrada inválida! Digite um número.\")\n",
        "    return notas\n",
        "\n",
        "def calcular_media(notas): #funcao de medias\n",
        "    return sum(notas) / len(notas)\n",
        "\n",
        "def situacao(media): #funcao para situacao se o aluno foi aprovado ou nao\n",
        "    if media >= 7:\n",
        "        return \"Aprovado\"\n",
        "    else:\n",
        "        return \"Reprovado\"\n",
        "\n",
        "def relatorio(notas, media, status): #relatorio final\n",
        "    print(\"\\n===== RELATÓRIO FINAL =====\")\n",
        "    print(\"Notas:\", notas)\n",
        "    print(f\"Média: {media:.2f}\")\n",
        "    print(\"Situação:\", status)\n",
        "\n",
        "def main():\n",
        "    print(\"=== Sistema de Gestão de Notas ===\")\n",
        "    notas = cadastrar_notas()\n",
        "    media = calcular_media(notas)\n",
        "    status = situacao(media)\n",
        "    relatorio(notas, media, status)\n",
        "\n",
        "if __name__ == \"__main__\": #execucao do programa\n",
        "    main()\n"
      ]
    }
  ]
}